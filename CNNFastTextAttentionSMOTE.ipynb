{
  "nbformat": 4,
  "nbformat_minor": 0,
  "metadata": {
    "colab": {
      "name": "CNNFastTextAttentionSMOTE.ipynb",
      "provenance": [],
      "collapsed_sections": [],
      "include_colab_link": true
    },
    "kernelspec": {
      "name": "python3",
      "display_name": "Python 3"
    },
    "accelerator": "GPU"
  },
  "cells": [
    {
      "cell_type": "markdown",
      "metadata": {
        "id": "view-in-github",
        "colab_type": "text"
      },
      "source": [
        "<a href=\"https://colab.research.google.com/github/shivanggarg1998/Androidified/blob/master/CNNFastTextAttentionSMOTE.ipynb\" target=\"_parent\"><img src=\"https://colab.research.google.com/assets/colab-badge.svg\" alt=\"Open In Colab\"/></a>"
      ]
    },
    {
      "cell_type": "code",
      "metadata": {
        "id": "JqHPJcFIpki9",
        "colab_type": "code",
        "colab": {}
      },
      "source": [
        "import pandas as pd\n",
        "import numpy as np\n",
        "\n",
        "# FOR PLOTTING GRAPHS\n",
        "import matplotlib.pyplot as plt\n",
        "pd.set_option('display.max_colwidth',300)\n",
        "\n",
        "# FOR CNN MODEL\n",
        "from tensorflow.keras.models import Model\n",
        "from tensorflow.keras.layers import Input, Embedding;\n",
        "from tensorflow.keras.layers import concatenate, Conv1D, GlobalMaxPooling1D\n",
        "from tensorflow.keras.layers import Dense, Dropout\n",
        "\n",
        "# FOR ATTENTION LAYER\n",
        "from tensorflow.keras.layers import Attention, Flatten,Activation,Permute,RepeatVector,Lambda,Multiply\n",
        "from tensorflow.keras.backend import sum as Ksum\n",
        "\n",
        "# FOR EVALUATION METRICS OF THE PREDICTIONS\n",
        "from sklearn.metrics import accuracy_score,f1_score,classification_report"
      ],
      "execution_count": 0,
      "outputs": []
    },
    {
      "cell_type": "code",
      "metadata": {
        "id": "IatICf6z09eZ",
        "colab_type": "code",
        "outputId": "ffcf01d0-4131-40b3-ba38-fa57b3a16ec8",
        "colab": {
          "base_uri": "https://localhost:8080/",
          "height": 121
        }
      },
      "source": [
        "from google.colab import drive\n",
        "drive.mount('/content/drive')"
      ],
      "execution_count": 3,
      "outputs": [
        {
          "output_type": "stream",
          "text": [
            "Go to this URL in a browser: https://accounts.google.com/o/oauth2/auth?client_id=947318989803-6bn6qk8qdgf4n4g3pfee6491hc0brc4i.apps.googleusercontent.com&redirect_uri=urn%3aietf%3awg%3aoauth%3a2.0%3aoob&response_type=code&scope=email%20https%3a%2f%2fwww.googleapis.com%2fauth%2fdocs.test%20https%3a%2f%2fwww.googleapis.com%2fauth%2fdrive%20https%3a%2f%2fwww.googleapis.com%2fauth%2fdrive.photos.readonly%20https%3a%2f%2fwww.googleapis.com%2fauth%2fpeopleapi.readonly\n",
            "\n",
            "Enter your authorization code:\n",
            "··········\n",
            "Mounted at /content/drive\n"
          ],
          "name": "stdout"
        }
      ]
    },
    {
      "cell_type": "code",
      "metadata": {
        "id": "BDzDnISz1J-1",
        "colab_type": "code",
        "colab": {}
      },
      "source": [
        "import os\n",
        "os.chdir('/content/drive/My Drive/Suggestion-Mining2/master')"
      ],
      "execution_count": 0,
      "outputs": []
    },
    {
      "cell_type": "code",
      "metadata": {
        "id": "jaHw79oTp1dm",
        "colab_type": "code",
        "colab": {
          "base_uri": "https://localhost:8080/",
          "height": 134
        },
        "outputId": "678a9ff9-45d4-4c64-dcf4-7d244b043336"
      },
      "source": [
        "# IMPORITING THE PARAMENTERS AND SEQUENCES \n",
        "import pickle\n",
        "\n",
        "variables = pickle.load(open('./Data/variablesFastTextSMOTE','rb'))\n",
        "\n",
        "test_sequence  = variables['test_sequence']\n",
        "valid_sequence  = variables['valid_sequence']\n",
        "train_sequence  = variables['train_sequence']\n",
        "\n",
        "y_train  = variables['y_train']\n",
        "y_test  = variables['y_test']\n",
        "y_valid  = variables['y_valid']\n",
        "\n",
        "MXSEQLEN  = variables['MXSEQLEN']\n",
        "EMBEDDING_DIM  = variables['EMBEDDING_DIM']\n",
        "train_embedding_weights  = variables['train_embedding_weights']\n",
        "train_word_index  = variables['train_word_index']\n",
        "train_sequence"
      ],
      "execution_count": 271,
      "outputs": [
        {
          "output_type": "execute_result",
          "data": {
            "text/plain": [
              "array([[   0,    0,    0, ...,  839,   34,  330],\n",
              "       [   0,    0,    0, ...,  630,    2, 1735],\n",
              "       [   0,    0,    0, ...,   80,  806,   87],\n",
              "       ...,\n",
              "       [   0,    0,    0, ...,   35,  139,   85],\n",
              "       [   0,    0,    0, ...,   65, 1355, 1261],\n",
              "       [   0,    0,    0, ...,  280,  866,  188]], dtype=int32)"
            ]
          },
          "metadata": {
            "tags": []
          },
          "execution_count": 271
        }
      ]
    },
    {
      "cell_type": "code",
      "metadata": {
        "id": "jJUCB0bUsUhg",
        "colab_type": "code",
        "colab": {}
      },
      "source": [
        "def CNN(embedding_weights,num_words):\n",
        "\n",
        "    embedding_layer = Embedding(\n",
        "        num_words,                  # VOCABULARY SIZE\n",
        "        EMBEDDING_DIM,              # ONE HOT ENCODING VECTOR SIZE\n",
        "        weights=[embedding_weights],# EMBEGGING WEIGHTS FROM THE GOOGLE NEW WORD VECTOR\n",
        "        input_length=MXSEQLEN,      # MAX LENGTH OF A SEQUENCE\n",
        "        trainable=False             # PARAMETERS WILL NOT BE TRAINED\n",
        "    )\n",
        "\n",
        "    sequence_input      =   Input(shape=(MXSEQLEN,), dtype='int32')\n",
        "    embedded_sequences  =   embedding_layer(sequence_input)\n",
        "\n",
        "    # CONVOLUTIONAL LAYER 1\n",
        "    conv_layer1 = Conv1D(256, 2, activation='relu')(embedded_sequences)        \n",
        "    conv_layer1 = GlobalMaxPooling1D()(conv_layer1)\n",
        "\n",
        "    # CONVOLUTIONAL LAYER 2\n",
        "    conv_layer2 = Conv1D(256, 3, activation='relu')(embedded_sequences)        \n",
        "    conv_layer2 = GlobalMaxPooling1D()(conv_layer2)\n",
        "\n",
        "    # CONVOLUTIONAL LAYER 3\n",
        "    conv_layer3 = Conv1D(256, 4, activation='relu')(embedded_sequences)        \n",
        "    conv_layer3 = GlobalMaxPooling1D()(conv_layer3)\n",
        "\n",
        "    # CONCATENATION CONV LAYERS\n",
        "    next_layer = concatenate([conv_layer1,conv_layer2,conv_layer3])\n",
        "\n",
        "    # ADDING ATTENTION\n",
        "    units = 256\n",
        "    next_layer = Dense(256, activation='sigmoid')(next_layer)  \n",
        "    attention = Dense(1, activation='tanh')(next_layer)\n",
        "    attention = Flatten()(attention)\n",
        "    attention = Activation('softmax')(attention)\n",
        "    attention = RepeatVector(units)(attention)\n",
        "    attention = Permute([2, 1])(attention)\n",
        "\n",
        "    sent_representation = Multiply()([next_layer, attention])\n",
        "    sent_representation = Lambda(lambda xin: Ksum(xin, axis=-2), output_shape=(units,))(sent_representation)\n",
        "\n",
        "    next_layer = Dropout(0.6)(next_layer)                         \n",
        "    next_layer = Dense(128, activation='sigmoid')(next_layer)  \n",
        "\n",
        "    preds = Dense(1, activation='sigmoid')(next_layer)  \n",
        "\n",
        "    model = Model(sequence_input, preds)\n",
        "    model.compile(\n",
        "        loss='binary_crossentropy',\n",
        "        optimizer='adam',\n",
        "        metrics=['acc']\n",
        "    )\n",
        "    \n",
        "    model.summary()\n",
        "    return model"
      ],
      "execution_count": 0,
      "outputs": []
    },
    {
      "cell_type": "code",
      "metadata": {
        "id": "uBDGiZBQsWgk",
        "colab_type": "code",
        "outputId": "b9d7ade7-faea-474c-a8d5-d78b670bacab",
        "colab": {
          "base_uri": "https://localhost:8080/",
          "height": 622
        }
      },
      "source": [
        "# len= train_word_index +1 FOR 0 THAT WILL BE PADDED FOR COMPLETING THE SEQUENCE LENGTH\n",
        "cnn_model = CNN(train_embedding_weights, len(train_word_index)+1)  "
      ],
      "execution_count": 273,
      "outputs": [
        {
          "output_type": "stream",
          "text": [
            "Model: \"model_31\"\n",
            "__________________________________________________________________________________________________\n",
            "Layer (type)                    Output Shape         Param #     Connected to                     \n",
            "==================================================================================================\n",
            "input_32 (InputLayer)           [(None, 126)]        0                                            \n",
            "__________________________________________________________________________________________________\n",
            "embedding_31 (Embedding)        (None, 126, 300)     1171500     input_32[0][0]                   \n",
            "__________________________________________________________________________________________________\n",
            "conv1d_93 (Conv1D)              (None, 125, 256)     153856      embedding_31[0][0]               \n",
            "__________________________________________________________________________________________________\n",
            "conv1d_94 (Conv1D)              (None, 124, 256)     230656      embedding_31[0][0]               \n",
            "__________________________________________________________________________________________________\n",
            "conv1d_95 (Conv1D)              (None, 123, 256)     307456      embedding_31[0][0]               \n",
            "__________________________________________________________________________________________________\n",
            "global_max_pooling1d_93 (Global (None, 256)          0           conv1d_93[0][0]                  \n",
            "__________________________________________________________________________________________________\n",
            "global_max_pooling1d_94 (Global (None, 256)          0           conv1d_94[0][0]                  \n",
            "__________________________________________________________________________________________________\n",
            "global_max_pooling1d_95 (Global (None, 256)          0           conv1d_95[0][0]                  \n",
            "__________________________________________________________________________________________________\n",
            "concatenate_31 (Concatenate)    (None, 768)          0           global_max_pooling1d_93[0][0]    \n",
            "                                                                 global_max_pooling1d_94[0][0]    \n",
            "                                                                 global_max_pooling1d_95[0][0]    \n",
            "__________________________________________________________________________________________________\n",
            "dense_124 (Dense)               (None, 256)          196864      concatenate_31[0][0]             \n",
            "__________________________________________________________________________________________________\n",
            "dropout_31 (Dropout)            (None, 256)          0           dense_124[0][0]                  \n",
            "__________________________________________________________________________________________________\n",
            "dense_126 (Dense)               (None, 128)          32896       dropout_31[0][0]                 \n",
            "__________________________________________________________________________________________________\n",
            "dense_127 (Dense)               (None, 1)            129         dense_126[0][0]                  \n",
            "==================================================================================================\n",
            "Total params: 2,093,357\n",
            "Trainable params: 921,857\n",
            "Non-trainable params: 1,171,500\n",
            "__________________________________________________________________________________________________\n"
          ],
          "name": "stdout"
        }
      ]
    },
    {
      "cell_type": "code",
      "metadata": {
        "id": "gzLbgWlEsYS1",
        "colab_type": "code",
        "outputId": "ebcb533d-bcd8-4b2d-f9bb-f10470dd32a3",
        "colab": {
          "base_uri": "https://localhost:8080/",
          "height": 185
        }
      },
      "source": [
        "# CONFIGURING AND TRAINING THE MODEL\n",
        "EPOCHS = 5\n",
        "BATCH_SIZE = 50\n",
        "\n",
        "history = cnn_model.fit(\n",
        "    train_sequence,       # THE INPUT SEQUENCES TO THE MODEL\n",
        "    y_train,              # TARGET OUTPUT\n",
        "    epochs=EPOCHS,    \n",
        "    validation_data=(valid_sequence, y_valid), \n",
        "    shuffle=True, \n",
        "    batch_size=BATCH_SIZE\n",
        ")"
      ],
      "execution_count": 274,
      "outputs": [
        {
          "output_type": "stream",
          "text": [
            "Epoch 1/5\n",
            "193/193 [==============================] - 2s 9ms/step - loss: 0.4989 - acc: 0.7560 - val_loss: 0.2721 - val_acc: 0.8908\n",
            "Epoch 2/5\n",
            "193/193 [==============================] - 2s 8ms/step - loss: 0.3406 - acc: 0.8555 - val_loss: 0.3078 - val_acc: 0.8619\n",
            "Epoch 3/5\n",
            "193/193 [==============================] - 2s 8ms/step - loss: 0.2328 - acc: 0.9060 - val_loss: 0.2465 - val_acc: 0.9004\n",
            "Epoch 4/5\n",
            "193/193 [==============================] - 2s 8ms/step - loss: 0.1354 - acc: 0.9544 - val_loss: 0.3623 - val_acc: 0.8643\n",
            "Epoch 5/5\n",
            "193/193 [==============================] - 2s 8ms/step - loss: 0.0870 - acc: 0.9745 - val_loss: 0.4004 - val_acc: 0.8583\n"
          ],
          "name": "stdout"
        }
      ]
    },
    {
      "cell_type": "code",
      "metadata": {
        "id": "cjWScq3hp9N-",
        "colab_type": "code",
        "colab": {}
      },
      "source": [
        "#####################################################################################\n",
        "########################## ANALYZING AND TWEAKING THE MODEL##########################\n",
        "#####################################################################################"
      ],
      "execution_count": 0,
      "outputs": []
    },
    {
      "cell_type": "code",
      "metadata": {
        "id": "DX0tXo8hp-vk",
        "colab_type": "code",
        "outputId": "d9e1aa55-d2e4-493c-ca08-6bc5506c30c3",
        "colab": {
          "base_uri": "https://localhost:8080/",
          "height": 295
        }
      },
      "source": [
        "# TRAINING VS VALIDATION LOSS GRAPH\n",
        "plt.plot(history.history['loss'])\n",
        "plt.plot(history.history['val_loss'])\n",
        "plt.title('model train vs validation loss')\n",
        "plt.ylabel('loss')\n",
        "plt.xlabel('epoch')\n",
        "plt.legend(['train', 'validation'], loc='upper right')\n",
        "plt.show()"
      ],
      "execution_count": 276,
      "outputs": [
        {
          "output_type": "display_data",
          "data": {
            "image/png": "[encoded data removed]",
            "text/plain": [
              "<Figure size 432x288 with 1 Axes>"
            ]
          },
          "metadata": {
            "tags": []
          }
        }
      ]
    },
    {
      "cell_type": "code",
      "metadata": {
        "id": "uLM9XCz4qAHZ",
        "colab_type": "code",
        "colab": {}
      },
      "source": [
        "predict=cnn_model.predict(test_sequence)\n",
        "predict=[int(x+0.5) for x in predict]"
      ],
      "execution_count": 0,
      "outputs": []
    },
    {
      "cell_type": "code",
      "metadata": {
        "id": "f_6vTBPeqBZr",
        "colab_type": "code",
        "outputId": "3fb66d7a-e4fe-4d65-9225-c533e650e32b",
        "colab": {
          "base_uri": "https://localhost:8080/",
          "height": 202
        }
      },
      "source": [
        "# EVLUATING THE ACCURACY\n",
        "accuracy = accuracy_score(y_test, predict)\n",
        "f1=f1_score(y_test,predict)\n",
        "print(\"F1 Score: %.2f%%\" % (f1* 100.0))\n",
        "print(\"Accuracy: %.2f%%\" % (accuracy * 100.0))\n",
        "print(classification_report(y_test,predict))"
      ],
      "execution_count": 278,
      "outputs": [
        {
          "output_type": "stream",
          "text": [
            "F1 Score: 77.42%\n",
            "Accuracy: 77.53%\n",
            "              precision    recall  f1-score   support\n",
            "\n",
            "           0       0.77      0.78      0.78       296\n",
            "           1       0.78      0.77      0.77       296\n",
            "\n",
            "    accuracy                           0.78       592\n",
            "   macro avg       0.78      0.78      0.78       592\n",
            "weighted avg       0.78      0.78      0.78       592\n",
            "\n"
          ],
          "name": "stdout"
        }
      ]
    }
  ]
}